{
  "nbformat": 4,
  "nbformat_minor": 0,
  "metadata": {
    "colab": {
      "name": "Untitled1.ipynb",
      "provenance": [],
      "authorship_tag": "ABX9TyMHiMyULKnoDmut3WZ8mZhT",
      "include_colab_link": true
    },
    "kernelspec": {
      "display_name": "Python 3",
      "name": "python3"
    },
    "language_info": {
      "name": "python"
    }
  },
  "cells": [
    {
      "cell_type": "markdown",
      "metadata": {
        "id": "view-in-github",
        "colab_type": "text"
      },
      "source": [
        "<a href=\"https://colab.research.google.com/github/error030/tranaformer/blob/main/practice.ipynb\" target=\"_parent\"><img src=\"https://colab.research.google.com/assets/colab-badge.svg\" alt=\"Open In Colab\"/></a>"
      ]
    },
    {
      "cell_type": "code",
      "metadata": {
        "id": "12hA5-LWJk3J"
      },
      "source": [
        "import os\n",
        "import datetime\n",
        "\n",
        "import IPython\n",
        "import IPython.display\n",
        "import matplotlib as mpl\n",
        "import matplotlib.pyplot as plt\n",
        "import numpy as np\n",
        "import pandas as pd\n",
        "import seaborn as sns\n",
        "import tensorflow as tf"
      ],
      "execution_count": 7,
      "outputs": []
    },
    {
      "cell_type": "code",
      "metadata": {
        "colab": {
          "base_uri": "https://localhost:8080/"
        },
        "id": "rk2OmgvoJvsE",
        "outputId": "646065d0-979c-4429-c5ce-4f5e8bf9b5c2"
      },
      "source": [
        "input_shape = (32, 3, 19)\n",
        "x = tf.random.normal(input_shape)\n",
        "y=tf.keras.Sequential([\n",
        "                     tf.keras.layers.Conv1D(32, 3, activation='relu',input_shape=input_shape[1:]),\n",
        "                     ###tf.keras.layers.Dense(units=32, activation='relu'),\n",
        "                     ###tf.keras.layers.Dense(units=1),\n",
        "])(x)\n",
        "print(y.shape)\n"
      ],
      "execution_count": 13,
      "outputs": [
        {
          "output_type": "stream",
          "name": "stdout",
          "text": [
            "(32, 1, 32)\n"
          ]
        }
      ]
    }
  ]
}